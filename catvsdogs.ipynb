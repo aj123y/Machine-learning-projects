{
  "nbformat": 4,
  "nbformat_minor": 0,
  "metadata": {
    "colab": {
      "provenance": [],
      "authorship_tag": "ABX9TyO8rNAo5tWJV7FFXk6BwFTQ",
      "include_colab_link": true
    },
    "kernelspec": {
      "name": "python3",
      "display_name": "Python 3"
    },
    "language_info": {
      "name": "python"
    },
    "accelerator": "GPU",
    "gpuClass": "standard"
  },
  "cells": [
    {
      "cell_type": "markdown",
      "metadata": {
        "id": "view-in-github",
        "colab_type": "text"
      },
      "source": [
        "<a href=\"https://colab.research.google.com/github/aj123y/projects/blob/main/catvsdogs.ipynb\" target=\"_parent\"><img src=\"https://colab.research.google.com/assets/colab-badge.svg\" alt=\"Open In Colab\"/></a>"
      ]
    },
    {
      "cell_type": "code",
      "execution_count": 11,
      "metadata": {
        "id": "LeyPTbEHugen"
      },
      "outputs": [],
      "source": [
        "!mkdir -p ~/.kaggle\n",
        "!cp kaggle.json ~/.kaggle/"
      ]
    },
    {
      "cell_type": "code",
      "source": [
        "!kaggle datasets download -d salader/dogs-vs-cats"
      ],
      "metadata": {
        "colab": {
          "base_uri": "https://localhost:8080/"
        },
        "id": "Rq1PTwE0vYb4",
        "outputId": "dda4c315-c095-4581-aec8-51ad935a9dc0"
      },
      "execution_count": 12,
      "outputs": [
        {
          "output_type": "stream",
          "name": "stdout",
          "text": [
            "Warning: Your Kaggle API key is readable by other users on this system! To fix this, you can run 'chmod 600 /root/.kaggle/kaggle.json'\n",
            "Downloading dogs-vs-cats.zip to /content\n",
            "100% 1.06G/1.06G [00:31<00:00, 40.7MB/s]\n",
            "100% 1.06G/1.06G [00:31<00:00, 36.8MB/s]\n"
          ]
        }
      ]
    },
    {
      "cell_type": "code",
      "source": [
        "import zipfile\n",
        "zip_ref = zipfile.ZipFile('/content/dogs-vs-cats.zip','r')\n",
        "zip_ref.extractall('/content')\n",
        "zip_ref.close()"
      ],
      "metadata": {
        "id": "qWGSxP7Sv0tl"
      },
      "execution_count": 13,
      "outputs": []
    },
    {
      "cell_type": "code",
      "source": [],
      "metadata": {
        "id": "ljxecdY98cIA"
      },
      "execution_count": null,
      "outputs": []
    },
    {
      "cell_type": "code",
      "source": [],
      "metadata": {
        "colab": {
          "base_uri": "https://localhost:8080/"
        },
        "id": "aLKCIPpwxmGM",
        "outputId": "4177a20e-f4bf-47e9-9440-3b8ade7e66a3"
      },
      "execution_count": 7,
      "outputs": [
        {
          "output_type": "stream",
          "name": "stdout",
          "text": [
            "Looking in indexes: https://pypi.org/simple, https://us-python.pkg.dev/colab-wheels/public/simple/\n",
            "\u001b[31mERROR: Could not find a version that satisfies the requirement keras.layers (from versions: none)\u001b[0m\n",
            "\u001b[31mERROR: No matching distribution found for keras.layers\u001b[0m\n"
          ]
        }
      ]
    },
    {
      "cell_type": "code",
      "source": [
        "import tensorflow as tf\n",
        "from tensorflow import keras\n",
        "\n",
        "from keras import Sequential\n",
        "from tensorflow.keras.layers import Conv2D, MaxPooling2D,Dense , Flatten ,BatchNormalization , Dropout"
      ],
      "metadata": {
        "id": "9jV9qaoGwkg5"
      },
      "execution_count": 25,
      "outputs": []
    },
    {
      "cell_type": "markdown",
      "source": [
        "GENERATORS - BATCHES (DIVIDING THE DATA INTO BATCHES)\n",
        "// Generators are very usefull for dealing with large amount of data"
      ],
      "metadata": {
        "id": "nWl9YpP_yXdY"
      }
    },
    {
      "cell_type": "code",
      "source": [
        "#generators\n",
        "train_ds = keras.utils.image_dataset_from_directory(\n",
        "    directory = '/content/train',\n",
        "    labels = 'inferred',\n",
        "    label_mode ='int',\n",
        "    batch_size = 32,\n",
        "    image_size = (256,256)\n",
        "\n",
        ")\n",
        "\n",
        "validation_ds = keras.utils.image_dataset_from_directory(\n",
        "    directory = '/content/test',\n",
        "    labels = 'inferred',\n",
        "    label_mode ='int',\n",
        "    batch_size = 32,\n",
        "    image_size = (256,256)\n",
        "\n",
        ")"
      ],
      "metadata": {
        "colab": {
          "base_uri": "https://localhost:8080/"
        },
        "id": "Y-KHdAnjxbn_",
        "outputId": "f4ff7991-7306-434d-8481-0f62166edef3"
      },
      "execution_count": 15,
      "outputs": [
        {
          "output_type": "stream",
          "name": "stdout",
          "text": [
            "Found 20000 files belonging to 2 classes.\n",
            "Found 5000 files belonging to 2 classes.\n"
          ]
        }
      ]
    },
    {
      "cell_type": "markdown",
      "source": [
        "Yaha p image numpy array ki format m store hua h ,, jo ki 1 se leke 256 ki range m hai -- or hame ise 0 - 1 tak kar na h toh basically hame (NORMALIZE) karna h \n"
      ],
      "metadata": {
        "id": "Sds75VAV0hRj"
      }
    },
    {
      "cell_type": "code",
      "source": [
        "# NORMALIZE\n",
        "def process(image, label):\n",
        "     image - tf.cast(image/255.,tf.float32)\n",
        "     return image,label\n",
        "\n",
        "train_ds = train_ds.map(process)\n",
        "validation_ds = validation_ds.map(process)"
      ],
      "metadata": {
        "id": "mRdPf3xV1E9k"
      },
      "execution_count": 16,
      "outputs": []
    },
    {
      "cell_type": "code",
      "source": [
        "# CREATING CNN MODEL\n",
        "\n",
        "model = Sequential()\n",
        "\n",
        "model.add(Conv2D(32,kernel_size = (3,3),padding = 'valid',activation= 'relu',input_shape = (256,256,3)))\n",
        "model.add(BatchNormalization())\n",
        "model.add(MaxPooling2D(pool_size =(2,2),strides = 2 ,padding = 'valid'))\n",
        "\n",
        "model.add(Conv2D(64,kernel_size = (3,3),padding = 'valid',activation= 'relu'))\n",
        "model.add(BatchNormalization())\n",
        "model.add(MaxPooling2D(pool_size =(2,2),strides = 2 ,padding = 'valid'))\n",
        "\n",
        "model.add(Conv2D(128,kernel_size = (3,3),padding = 'valid',activation= 'relu'))\n",
        "model.add(BatchNormalization())\n",
        "model.add(MaxPooling2D(pool_size =(2,2),strides = 2 ,padding = 'valid'))\n",
        "\n",
        "model.add(Flatten())\n",
        "\n",
        "model.add(Dense(128,activation= 'relu'))\n",
        "model.add(Dropout(0.1))\n",
        "model.add(Dense(64,activation= 'relu'))\n",
        "model.add(Dropout(0.1))\n",
        "model.add(Dense(1,activation= 'sigmoid'))"
      ],
      "metadata": {
        "id": "FJwITnBU1-yQ"
      },
      "execution_count": 26,
      "outputs": []
    },
    {
      "cell_type": "code",
      "source": [
        "model.summary()"
      ],
      "metadata": {
        "colab": {
          "base_uri": "https://localhost:8080/"
        },
        "id": "49cH6-bZ4vyz",
        "outputId": "566342e2-1dc1-4a1b-cffd-409db28992f7"
      },
      "execution_count": 27,
      "outputs": [
        {
          "output_type": "stream",
          "name": "stdout",
          "text": [
            "Model: \"sequential_1\"\n",
            "_________________________________________________________________\n",
            " Layer (type)                Output Shape              Param #   \n",
            "=================================================================\n",
            " conv2d_3 (Conv2D)           (None, 254, 254, 32)      896       \n",
            "                                                                 \n",
            " batch_normalization (BatchN  (None, 254, 254, 32)     128       \n",
            " ormalization)                                                   \n",
            "                                                                 \n",
            " max_pooling2d_3 (MaxPooling  (None, 127, 127, 32)     0         \n",
            " 2D)                                                             \n",
            "                                                                 \n",
            " conv2d_4 (Conv2D)           (None, 125, 125, 64)      18496     \n",
            "                                                                 \n",
            " batch_normalization_1 (Batc  (None, 125, 125, 64)     256       \n",
            " hNormalization)                                                 \n",
            "                                                                 \n",
            " max_pooling2d_4 (MaxPooling  (None, 62, 62, 64)       0         \n",
            " 2D)                                                             \n",
            "                                                                 \n",
            " conv2d_5 (Conv2D)           (None, 60, 60, 128)       73856     \n",
            "                                                                 \n",
            " batch_normalization_2 (Batc  (None, 60, 60, 128)      512       \n",
            " hNormalization)                                                 \n",
            "                                                                 \n",
            " max_pooling2d_5 (MaxPooling  (None, 30, 30, 128)      0         \n",
            " 2D)                                                             \n",
            "                                                                 \n",
            " flatten_1 (Flatten)         (None, 115200)            0         \n",
            "                                                                 \n",
            " dense_3 (Dense)             (None, 128)               14745728  \n",
            "                                                                 \n",
            " dropout (Dropout)           (None, 128)               0         \n",
            "                                                                 \n",
            " dense_4 (Dense)             (None, 64)                8256      \n",
            "                                                                 \n",
            " dropout_1 (Dropout)         (None, 64)                0         \n",
            "                                                                 \n",
            " dense_5 (Dense)             (None, 1)                 65        \n",
            "                                                                 \n",
            "=================================================================\n",
            "Total params: 14,848,193\n",
            "Trainable params: 14,847,745\n",
            "Non-trainable params: 448\n",
            "_________________________________________________________________\n"
          ]
        }
      ]
    },
    {
      "cell_type": "code",
      "source": [
        "model.compile(optimizer = 'adam' , loss = 'binary_crossentropy' , metrics = ['accuracy'] )"
      ],
      "metadata": {
        "id": "RzabFNY55I9M"
      },
      "execution_count": 28,
      "outputs": []
    },
    {
      "cell_type": "code",
      "source": [
        "history= model.fit(train_ds , epochs = 10 , validation_data = validation_ds)"
      ],
      "metadata": {
        "colab": {
          "base_uri": "https://localhost:8080/"
        },
        "id": "1IYB95TJ5vEw",
        "outputId": "407d5f1d-5bd0-49a6-a38b-c9bb136d021d"
      },
      "execution_count": 29,
      "outputs": [
        {
          "output_type": "stream",
          "name": "stdout",
          "text": [
            "Epoch 1/10\n",
            "625/625 [==============================] - 79s 124ms/step - loss: 1.2311 - accuracy: 0.5945 - val_loss: 0.6217 - val_accuracy: 0.6704\n",
            "Epoch 2/10\n",
            "625/625 [==============================] - 76s 121ms/step - loss: 0.5637 - accuracy: 0.7147 - val_loss: 0.7088 - val_accuracy: 0.7018\n",
            "Epoch 3/10\n",
            "625/625 [==============================] - 76s 121ms/step - loss: 0.4759 - accuracy: 0.7758 - val_loss: 0.5168 - val_accuracy: 0.7570\n",
            "Epoch 4/10\n",
            "625/625 [==============================] - 77s 123ms/step - loss: 0.4412 - accuracy: 0.7972 - val_loss: 0.5050 - val_accuracy: 0.7650\n",
            "Epoch 5/10\n",
            "625/625 [==============================] - 76s 121ms/step - loss: 0.3576 - accuracy: 0.8389 - val_loss: 0.7139 - val_accuracy: 0.7708\n",
            "Epoch 6/10\n",
            "625/625 [==============================] - 76s 121ms/step - loss: 0.2875 - accuracy: 0.8798 - val_loss: 0.5006 - val_accuracy: 0.7624\n",
            "Epoch 7/10\n",
            "625/625 [==============================] - 76s 122ms/step - loss: 0.2120 - accuracy: 0.9151 - val_loss: 0.9024 - val_accuracy: 0.7126\n",
            "Epoch 8/10\n",
            "625/625 [==============================] - 76s 121ms/step - loss: 0.1557 - accuracy: 0.9405 - val_loss: 0.5046 - val_accuracy: 0.8294\n",
            "Epoch 9/10\n",
            "625/625 [==============================] - 76s 121ms/step - loss: 0.1159 - accuracy: 0.9539 - val_loss: 1.1479 - val_accuracy: 0.7236\n",
            "Epoch 10/10\n",
            "625/625 [==============================] - 77s 122ms/step - loss: 0.0876 - accuracy: 0.9666 - val_loss: 0.5333 - val_accuracy: 0.8092\n"
          ]
        }
      ]
    },
    {
      "cell_type": "code",
      "source": [
        "import matplotlib.pyplot as plt\n",
        "plt.plot(history.history['loss'],color = 'red', label = 'train')\n",
        "plt.plot(history.history['val_loss'],color = 'blue', label = 'validation')\n",
        "plt.legend()\n",
        "plt.show()\n"
      ],
      "metadata": {
        "colab": {
          "base_uri": "https://localhost:8080/",
          "height": 265
        },
        "id": "MQDzFdVY6Gms",
        "outputId": "bf33c1a0-d168-4125-fb3b-8e27463c48ee"
      },
      "execution_count": 30,
      "outputs": [
        {
          "output_type": "display_data",
          "data": {
            "text/plain": [
              "<Figure size 432x288 with 1 Axes>"
            ],
            "image/png": "[encoded data removed]"
          },
          "metadata": {
            "needs_background": "light"
          }
        }
      ]
    },
    {
      "cell_type": "code",
      "source": [
        "plt.plot(history.history['accuracy'],color = 'red', label = 'train')\n",
        "plt.plot(history.history['val_accuracy'],color = 'blue', label = 'validation')\n",
        "plt.legend()\n",
        "plt.show()"
      ],
      "metadata": {
        "colab": {
          "base_uri": "https://localhost:8080/",
          "height": 265
        },
        "id": "mQOuYcuS-hP1",
        "outputId": "5afa419b-90de-4e66-d43f-d8e3e46910f2"
      },
      "execution_count": 31,
      "outputs": [
        {
          "output_type": "display_data",
          "data": {
            "text/plain": [
              "<Figure size 432x288 with 1 Axes>"
            ],
            "image/png": "[encoded data removed]"
          },
          "metadata": {
            "needs_background": "light"
          }
        }
      ]
    },
    {
      "cell_type": "code",
      "source": [
        "# ways to reduce overfitting\n",
        "\n",
        "# Add more data\n",
        "# Data Augmentation\n",
        "# L1/L2 \n",
        "# Dropout\n",
        "# Batch Norm\n",
        "# Reduce complexity"
      ],
      "metadata": {
        "id": "U3769BYuAHhF"
      },
      "execution_count": null,
      "outputs": []
    },
    {
      "cell_type": "code",
      "source": [],
      "metadata": {
        "id": "vS_hCYdUA5r8"
      },
      "execution_count": null,
      "outputs": []
    }
  ]
}